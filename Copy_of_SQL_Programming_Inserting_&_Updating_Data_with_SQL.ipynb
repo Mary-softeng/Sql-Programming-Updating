{
  "nbformat": 4,
  "nbformat_minor": 0,
  "metadata": {
    "colab": {
      "name": "Copy of SQL Programming - Inserting & Updating Data with SQL",
      "provenance": [],
      "collapsed_sections": [
        "KCdiz748itDJ",
        "tSl0-ovdpbm8",
        "woRQLL27TQtO",
        "NCQgJlS3i5s8",
        "zIWkDFXAg3WM",
        "0tHKCvqwjHzR",
        "9FgkIQ9FgUc2",
        "f8mqknCOjdy0",
        "v_2lf_8Kgg13",
        "A1SpsHzcgNSF",
        "PTw63d8chcB0"
      ]
    },
    "kernelspec": {
      "name": "python3",
      "display_name": "Python 3"
    }
  },
  "cells": [
    {
      "cell_type": "markdown",
      "metadata": {
        "id": "is5UEOT8hV7u"
      },
      "source": [
        "# Inserting and Updating Data with SQL"
      ]
    },
    {
      "cell_type": "markdown",
      "metadata": {
        "id": "KCdiz748itDJ"
      },
      "source": [
        "## 1.1 Let's first connect to our Database"
      ]
    },
    {
      "cell_type": "code",
      "metadata": {
        "id": "Rhlom9gHhN5J",
        "colab": {
          "base_uri": "https://localhost:8080/",
          "height": 70
        },
        "outputId": "a993bbc3-920a-4abb-ba01-7c42a0d54adb"
      },
      "source": [
        "# We will first load the sql extension into our environment\n",
        "%load_ext sql\n",
        "\n",
        "# Then connect to our in memory sqlite database\n",
        "# NB: This database will cease to exist as soon as the database connection is closed. \n",
        "%sql sqlite://"
      ],
      "execution_count": null,
      "outputs": [
        {
          "output_type": "stream",
          "name": "stdout",
          "text": [
            "The sql extension is already loaded. To reload it, use:\n",
            "  %reload_ext sql\n"
          ]
        },
        {
          "output_type": "execute_result",
          "data": {
            "application/vnd.google.colaboratory.intrinsic+json": {
              "type": "string"
            },
            "text/plain": [
              "'Connected: @None'"
            ]
          },
          "metadata": {},
          "execution_count": 5
        }
      ]
    },
    {
      "cell_type": "markdown",
      "metadata": {
        "id": "tSl0-ovdpbm8"
      },
      "source": [
        "## 1.2 Importing Data From CSV Files"
      ]
    },
    {
      "cell_type": "code",
      "metadata": {
        "id": "9_gIWV-Rr_TD"
      },
      "source": [
        "# In order to read any csv file, we will need to import our python csv library\n",
        "# This will allow us to read a csv file that we will have uploaded to our evironment\n",
        "import csv"
      ],
      "execution_count": null,
      "outputs": []
    },
    {
      "cell_type": "code",
      "metadata": {
        "id": "wt0J2Y4k3hWu"
      },
      "source": [
        "# We will also need a pandas library which is used for data manipulation in this notebook. For now, don't worry too much about how it functions, we will explore it in details in the coming weeks.\n",
        "import pandas as pd"
      ],
      "execution_count": null,
      "outputs": []
    },
    {
      "cell_type": "markdown",
      "metadata": {
        "id": "BnTR_tUkp5jl"
      },
      "source": [
        "Then we will download our csv files from \n",
        "*   [Interpol Dataset](http://bit.ly/DSInterpol) \n",
        "*   [Startups Dataset](http://bit.ly/DSStartup)\n",
        "*   [Transactions Dataset](http://bit.ly/DSTransactions)\n",
        "*   [Glass Dataset](http://bit.ly/DSGlass)\n",
        "\n",
        "Later upload them to our current environment on Colaboratory by clicking View > Table of Contents > Files then Upload.  \n",
        "(We should not load these files from url)\n"
      ]
    },
    {
      "cell_type": "code",
      "metadata": {
        "id": "1zaH5Bn3l-TR"
      },
      "source": [
        "# Upon uploading our file, we will then load our first table from the CSV file as shown \n",
        "# We are going to use one of pandas function which is read_csv(). This function helps us to load data from csv files into python. It takes a several arguments/ parameters but we are going to use only a few for now. \n",
        "# The first arugument is the path of the csv file. This tells the function where your csv is located and the name of the csv. It can also be a url.\n",
        "# The second argument, index_col, tells pandas to use the row indexes as the row labels.\n",
        "with open('Interpol.csv','r') as f:\n",
        "    Interpol = pd.read_csv(f, index_col=0, encoding='utf-8') \n"
      ],
      "execution_count": null,
      "outputs": []
    },
    {
      "cell_type": "code",
      "metadata": {
        "id": "yEtQJdLGidHx",
        "colab": {
          "base_uri": "https://localhost:8080/",
          "height": 87
        },
        "outputId": "ddd74596-7915-425a-f5a9-e520fa6c711e"
      },
      "source": [
        "# We will then drop existing tables similar to the one that we will work with\n",
        "# in our current sqlite environment. Then push our Interpol data into a new \n",
        "# table within our current SQLite Database \n",
        "#\n",
        "%sql DROP TABLE if EXISTS Interpol;\n",
        "%sql PERSIST Interpol;"
      ],
      "execution_count": null,
      "outputs": [
        {
          "output_type": "stream",
          "name": "stdout",
          "text": [
            " * sqlite://\n",
            "Done.\n",
            " * sqlite://\n"
          ]
        },
        {
          "output_type": "execute_result",
          "data": {
            "application/vnd.google.colaboratory.intrinsic+json": {
              "type": "string"
            },
            "text/plain": [
              "'Persisted interpol'"
            ]
          },
          "metadata": {},
          "execution_count": 9
        }
      ]
    },
    {
      "cell_type": "code",
      "metadata": {
        "id": "YObR0-QANoc3"
      },
      "source": [
        "# Previewing our Interpol table\n",
        "#\n",
        "%%sql\n",
        "SELECT * FROM Interpol LIMIT 5;"
      ],
      "execution_count": null,
      "outputs": []
    },
    {
      "cell_type": "markdown",
      "metadata": {
        "id": "woRQLL27TQtO"
      },
      "source": [
        "### <font color=\"green\">1.2 Challenges</font>"
      ]
    },
    {
      "cell_type": "code",
      "metadata": {
        "id": "l8VnNuNZTQPv"
      },
      "source": [
        "# Challenge 1\n",
        "# Let's load our Startups.csv file. \n",
        "# Feel free to copy paste the code above and make the necessary modifications\n",
        "# \n",
        "with open('Startups.csv','r') as f:\n",
        "    Startups = pd.read_csv(f, index_col=0, encoding='utf-8')"
      ],
      "execution_count": null,
      "outputs": []
    },
    {
      "cell_type": "code",
      "metadata": {
        "id": "sSy3id3XTgpn"
      },
      "source": [
        "# Challenge 2\n",
        "# Let's load our Transactions.csv file below\n",
        "# \n",
        "with open('Transactions.csv','r') as f:\n",
        "    Transactions = pd.read_csv(f, index_col=0, encoding='utf-8')"
      ],
      "execution_count": null,
      "outputs": []
    },
    {
      "cell_type": "code",
      "metadata": {
        "id": "vbPGX46TzIu8"
      },
      "source": [
        "# Challenge 3\n",
        "# Let's load our Glass.csv file below\n",
        "# \n",
        "with open('Glass.csv','r') as f:\n",
        "    Glass = pd.read_csv(f, index_col=0, encoding='utf-8')"
      ],
      "execution_count": null,
      "outputs": []
    },
    {
      "cell_type": "markdown",
      "metadata": {
        "id": "NCQgJlS3i5s8"
      },
      "source": [
        "## 1.3 Inserting data into a table\n"
      ]
    },
    {
      "cell_type": "code",
      "metadata": {
        "id": "8G6lchhzSKO5"
      },
      "source": [
        "# Example 1: Previewing our table \n",
        "# We will first preview the last 5 records in Interpol our table\n",
        "# NB: We learn this in our last SQL Session i.e. Sorting\n",
        "#\n",
        "%%sql \n",
        "SELECT * FROM Interpol LIMIT 5;"
      ],
      "execution_count": null,
      "outputs": []
    },
    {
      "cell_type": "code",
      "metadata": {
        "id": "9vqdsIkWmojW"
      },
      "source": [
        "# Example 2: Inserting data\n",
        "# Then we will insert new data into our table and noting the added record\n",
        "# Country = Uganda\n",
        "# National Fugitives = 1\n",
        "# Wanted Fugitives = 1\n",
        "# Possible Hosted Fugitives / Captured Fugitives = 0\n",
        "# Region = Sub Saharan Africa\n",
        "# Flag = https://www.crwflags.com/art/countries/uganda.gif\n",
        "%%sql\n",
        "INSERT INTO Interpol (Country, \"National Fugitives\", \"Wanted Fugitives\", \"Possible Hosted Fugitives / Captured Fugitives\", Region, Flag)\n",
        "VALUES ('Uganda', '1', '1', '0', 'Sub Saharan Africa', 'https://www.crwflags.com/art/countries/uganda.gif');\n",
        "\n",
        "SELECT * FROM Interpol;"
      ],
      "execution_count": null,
      "outputs": []
    },
    {
      "cell_type": "code",
      "metadata": {
        "id": "c0nQlZSAmyX8",
        "colab": {
          "base_uri": "https://localhost:8080/"
        },
        "outputId": "dea38987-3f17-4d6c-aadb-c7a2f1aae9a0"
      },
      "source": [
        "# Example 2: Previewing the first five records in the Startups.csv file\n",
        "#\n",
        "%sql DROP TABLE if EXISTS Startups;\n",
        "%sql PERSIST Startups;\n"
      ],
      "execution_count": null,
      "outputs": [
        {
          "output_type": "stream",
          "name": "stdout",
          "text": [
            " * sqlite://\n",
            "Done.\n",
            " * sqlite://\n"
          ]
        },
        {
          "output_type": "execute_result",
          "data": {
            "application/vnd.google.colaboratory.intrinsic+json": {
              "type": "string"
            },
            "text/plain": [
              "'Persisted startups'"
            ]
          },
          "metadata": {},
          "execution_count": 16
        }
      ]
    },
    {
      "cell_type": "code",
      "metadata": {
        "id": "CljoZdPAg1jx"
      },
      "source": [
        "# Example 2: Inserting data\n",
        "# Then we will insert new data into our table and noting all the values of the added record\n",
        "# We will add The follwoing\n",
        "# Company = 'Glova'\n",
        "# Satus = 'Operating'   \n",
        "# \n",
        "%%sql\n",
        "INSERT INTO Startups (Company, Satus)\n",
        "VALUES ('Glova', 'Operating');\n",
        "\n",
        "SELECT * FROM Startups;"
      ],
      "execution_count": null,
      "outputs": []
    },
    {
      "cell_type": "code",
      "metadata": {
        "id": "XzBTq046g2Oj"
      },
      "source": [
        "# Example 3\n",
        "# Now Inserting a new record into the specific columns; Company, Mapping Location, Categories\n",
        "# Company = \"Moringa\"\n",
        "# Mapping Location = \"Nairobi\"\n",
        "# Categories = \"Education\"\n",
        "#\n",
        "%%sql\n",
        "INSERT INTO Startups (Company, \"Mapping Location\", Categories) \n",
        "VALUES (\"Moringa\", \"Nairobi\", \"Education\");\n",
        "\n",
        "SELECT * FROM Startups;"
      ],
      "execution_count": null,
      "outputs": []
    },
    {
      "cell_type": "markdown",
      "metadata": {
        "id": "zIWkDFXAg3WM"
      },
      "source": [
        "### <font color=\"green\">1.3 Challenges</font>"
      ]
    },
    {
      "cell_type": "code",
      "metadata": {
        "id": "FKnfkkG5g_Jq"
      },
      "source": [
        "# Challenge 1\n",
        "# Insert a new record into the Interpol table with  \n",
        "# Country = Tanzania\n",
        "# National Fugitives = 3\n",
        "# Wanted Fugitives = Null\n",
        "# Possible Hosted Fugitives / Captured Fugitives = 2\n",
        "# Region = Sub Saharan Africa\n",
        "# Flag = https://www.crwflags.com/art/countries/tanzania.gif\n",
        "# \n",
        "%%sql\n",
        "INSERT INTO Interpol (Country, \"National Fugitives\", \"Wanted Fugitives\", \"Possible Hosted Fugitives / Captured Fugitives\", Region, Flag) \n",
        "VALUES (\"Tanzania\", 3, \"NULL\", 2, \"Sub Saharan Africa\", \"https://www.crwflags.com/art/countries/tanzania.gif\");\n",
        "\n",
        "SELECT * FROM Interpol;"
      ],
      "execution_count": null,
      "outputs": []
    },
    {
      "cell_type": "code",
      "metadata": {
        "id": "qCETOUp6n6Ui"
      },
      "source": [
        "# Challenge 2\n",
        "# Insert any two records of your choosing into the Interpol table\n",
        "# \n",
        "%%sql\n",
        "INSERT INTO Interpol (Country, \"National Fugitives\", \"Wanted Fugitives\", \"Possible Hosted Fugitives / Captured Fugitives\", Region, Flag) \n",
        "\n",
        "VALUES (\"Uganda\", 8, \"NULL\", 21, \"Sub Saharan Africa\", \"https://www.crwflags.com/art/countries/Uganda.gif\"),\n",
        "(\"Kenya\", 24, \"NULL\", 11, \"Sub Saharan Africa\", \"https://www.crwflags.com/art/countries/Kenya.gif\");\n",
        "\n",
        "SELECT * FROM Interpol;"
      ],
      "execution_count": null,
      "outputs": []
    },
    {
      "cell_type": "code",
      "metadata": {
        "id": "YFXzzsAeg--N"
      },
      "source": [
        "# Challenge 3\n",
        "# Insert any new record in the Startups table only have the following attributes \n",
        "# Company, Mapping Location, Categories\n",
        "# \n",
        "%%sql\n",
        "INSERT INTO Startups (Company, \"Mapping Location\", Categories) \n",
        "VALUES (\"Cyber Crafts Academy\", \"Ruiru\", \"Computing\");\n",
        "\n",
        "SELECT * FROM Startups;\n"
      ],
      "execution_count": null,
      "outputs": []
    },
    {
      "cell_type": "markdown",
      "metadata": {
        "id": "0tHKCvqwjHzR"
      },
      "source": [
        "## 1.4 Updating records in a table\n"
      ]
    },
    {
      "cell_type": "code",
      "metadata": {
        "id": "R8fK5cLfgTPP"
      },
      "source": [
        "# Example 1\n",
        "# Let's update Albania to 4 National Fugitives in the Interpol table.\n",
        "# \n",
        "%%sql\n",
        "UPDATE Interpol\n",
        "SET \"National Fugitives\" = 4\n",
        "WHERE Country = \"Albania\";\n",
        "\n",
        "SELECT * FROM Interpol;"
      ],
      "execution_count": null,
      "outputs": []
    },
    {
      "cell_type": "code",
      "source": [
        "%sql DROP TABLE if EXISTS Transactions;\n",
        "%sql PERSIST Transactions;"
      ],
      "metadata": {
        "colab": {
          "base_uri": "https://localhost:8080/",
          "height": 87
        },
        "id": "M8nrBm8NHkyk",
        "outputId": "b8e42604-4fc1-4448-f5b0-8e09eddf033c"
      },
      "execution_count": null,
      "outputs": [
        {
          "output_type": "stream",
          "name": "stdout",
          "text": [
            " * sqlite://\n",
            "Done.\n",
            " * sqlite://\n"
          ]
        },
        {
          "output_type": "execute_result",
          "data": {
            "application/vnd.google.colaboratory.intrinsic+json": {
              "type": "string"
            },
            "text/plain": [
              "'Persisted transactions'"
            ]
          },
          "metadata": {},
          "execution_count": 23
        }
      ]
    },
    {
      "cell_type": "code",
      "metadata": {
        "id": "S7hjp7LAgT4h"
      },
      "source": [
        "# Example 2\n",
        "# Let's update any transactions record that has ride_id = 5781 \n",
        "# to 5782\n",
        "#\n",
        "%%sql\n",
        "UPDATE Transactions\n",
        "SET ride_id = 5782\n",
        "WHERE ride_id = 5781;\n",
        "\n",
        "SELECT * FROM Transactions LIMIT 5;"
      ],
      "execution_count": null,
      "outputs": []
    },
    {
      "cell_type": "code",
      "metadata": {
        "id": "nehqdCystZKe"
      },
      "source": [
        "# Example 3\n",
        "# Let's update the transactions record with ride_id = 5778 to \n",
        "# have travel_from = 'Kisii' and car_type = 'shuttle'\n",
        "#\n",
        "%%sql\n",
        "UPDATE Transactions\n",
        "SET travel_from = 'Kisii', car_type = 'shuttle'\n",
        "WHERE ride_id = 5778;\n",
        "\n",
        "SELECT * FROM Transactions; "
      ],
      "execution_count": null,
      "outputs": []
    },
    {
      "cell_type": "markdown",
      "metadata": {
        "id": "9FgkIQ9FgUc2"
      },
      "source": [
        "### <font color=\"green\">1.4 Challenges</font>"
      ]
    },
    {
      "cell_type": "code",
      "metadata": {
        "id": "vyywG3d5gaUu"
      },
      "source": [
        "# Challenge 1\n",
        "# Update the transactions records with the \n",
        "# payment_method = none to Null\n",
        "# \n",
        "%%sql\n",
        "UPDATE Transactions\n",
        "SET payment_method = 'none to Null';\n",
        "\n",
        "\n",
        "SELECT * FROM Transactions; "
      ],
      "execution_count": null,
      "outputs": []
    },
    {
      "cell_type": "code",
      "metadata": {
        "id": "DtI4lnTZgayY"
      },
      "source": [
        "# Challenge 2\n",
        "# Update the Interpol records with Wanted Fugitives\t = 2\n",
        "# to National Fugitives = 2 \n",
        "# \n",
        "%%sql\n",
        "UPDATE Interpol\n",
        "SET \"National Fugitives\" = 2\n",
        "WHERE \"Wanted Fugitives\" = 2;\n",
        "\n",
        "SELECT * FROM Interpol;"
      ],
      "execution_count": null,
      "outputs": []
    },
    {
      "cell_type": "code",
      "metadata": {
        "id": "nXJcVgRKgaoE"
      },
      "source": [
        "# Challenge 3 \n",
        "# Update the transactions records with car_type = \"Bus\" to \n",
        "# have car_type = \"shuttle\" and travel_to = \"Nairobi Downtown\"\n",
        "# \n",
        "%%sql\n",
        "UPDATE Transactions\n",
        "SET car_type = \"shuttle\", travel_to = \"Nairobi Downtown\"\n",
        "WHERE car_type = \"Bus\";\n",
        "\n",
        "SELECT * FROM Transactions; "
      ],
      "execution_count": null,
      "outputs": []
    },
    {
      "cell_type": "markdown",
      "metadata": {
        "id": "f8mqknCOjdy0"
      },
      "source": [
        "## 1.5 Updating with Conditions\n"
      ]
    },
    {
      "cell_type": "code",
      "metadata": {
        "id": "fPk6BlrFrmRS"
      },
      "source": [
        "# Example 1\n",
        "# As you have seen from the previous examples, we used the WHERE clause to specify\n",
        "# where we would like to make our updates on the table.\n",
        "# Now, how then would we do this for multiple records. Say, we wanted to update \n",
        "# records with Kisii to \"Kisii Old Stage\", we would do the following\n",
        "#\n",
        "%%sql \n",
        "UPDATE Transactions\n",
        "SET travel_from = \"Old Kisii\"\n",
        "WHERE travel_from = \"Kisii\";\n",
        "\n",
        "SELECT * FROM Transactions;"
      ],
      "execution_count": null,
      "outputs": []
    },
    {
      "cell_type": "code",
      "metadata": {
        "id": "Ho3kt_0Dgqnc"
      },
      "source": [
        "# Example 2\n",
        "# We also need to be careful when updating records. If we omit the WHERE clause, ALL records will be updated!\n",
        "# For example, running the code below will update our entire Wanted Fugitives \n",
        "# column with our new value as show in this example\n",
        "# \n",
        "%%sql\n",
        "UPDATE Interpol\n",
        "SET \"Wanted Fugitives\"= 1; \n",
        "\n",
        "SELECT * FROM Interpol;"
      ],
      "execution_count": null,
      "outputs": []
    },
    {
      "cell_type": "code",
      "metadata": {
        "id": "ucgxumOtqoGq"
      },
      "source": [
        "# Example 2: Getting back our values.\n",
        "# A way to get back our values in the Wanted Fugitives table\n",
        "# is to read the table again. However, this will not consider any changes\n",
        "# that we had made earlier on.\n",
        "with open('Interpol.csv','r') as f:\n",
        "    Interpol = pd.read_csv(f, index_col=0, encoding='utf-8')\n",
        "%sql DROP TABLE if EXISTS Interpol;\n",
        "%sql PERSIST Interpol;\n",
        "%sql SELECT * from Interpol;"
      ],
      "execution_count": null,
      "outputs": []
    },
    {
      "cell_type": "code",
      "source": [
        "%sql DROP TABLE if EXISTS Glass;\n",
        "%sql PERSIST Glass;"
      ],
      "metadata": {
        "colab": {
          "base_uri": "https://localhost:8080/",
          "height": 87
        },
        "id": "GqFCi402JrL5",
        "outputId": "9ed442a6-cfce-4ad4-8d1b-90ead179499d"
      },
      "execution_count": null,
      "outputs": [
        {
          "output_type": "stream",
          "name": "stdout",
          "text": [
            " * sqlite://\n",
            "Done.\n",
            " * sqlite://\n"
          ]
        },
        {
          "output_type": "execute_result",
          "data": {
            "application/vnd.google.colaboratory.intrinsic+json": {
              "type": "string"
            },
            "text/plain": [
              "'Persisted glass'"
            ]
          },
          "metadata": {},
          "execution_count": 32
        }
      ]
    },
    {
      "cell_type": "code",
      "metadata": {
        "id": "-aIug5Tfgqbo"
      },
      "source": [
        "# Example 3\n",
        "# We can update Glass records which have Fe > 2.5 to Type = 2 \n",
        "# We first preview it below\n",
        "#\n",
        "%%sql \n",
        "UPDATE Glass\n",
        "SET Type = 2\n",
        "WHERE Fe > 2.5;\n",
        "\n",
        "SELECT * FROM Glass;"
      ],
      "execution_count": null,
      "outputs": []
    },
    {
      "cell_type": "code",
      "metadata": {
        "id": "RRA6yG6WzT7B"
      },
      "source": [
        "# Example 3\n",
        "# The perform the mentioned update\n",
        "#\n",
        "%%sql\n",
        "UPDATE Glass\n",
        "SET Type = 2\n",
        "WHERE Fe > 0.2;\n",
        "\n",
        "SELECT * FROM Glass;"
      ],
      "execution_count": null,
      "outputs": []
    },
    {
      "cell_type": "markdown",
      "metadata": {
        "id": "v_2lf_8Kgg13"
      },
      "source": [
        "### <font color=\"green\">1.5 Challenges</font>"
      ]
    },
    {
      "cell_type": "code",
      "metadata": {
        "id": "NRqqCBe7gqBq"
      },
      "source": [
        "# Challenge 1\n",
        "# Let's update Angola with National Fugitives = 2, Wanted Fugitives = 2\n",
        "# and 0 Possible Hosted Fugitives / Captured Fugitives\n",
        "# \n",
        "%%sql\n",
        "UPDATE Interpol\n",
        "SET \"Wanted Fugitives\"= 2, \"National Fugitives\"= 2, \"Possible Hosted Fugitives / Captured Fugitives\"= 0 \n",
        "WHERE country = \"Angola\";\n",
        "\n",
        "SELECT * FROM Interpol;"
      ],
      "execution_count": null,
      "outputs": []
    },
    {
      "cell_type": "code",
      "metadata": {
        "id": "wx2ARISHgpzh",
        "colab": {
          "base_uri": "https://localhost:8080/"
        },
        "outputId": "b5b784e9-08fa-45f5-ba9e-86588c4a7036"
      },
      "source": [
        "# Challenge 2\n",
        "# Update Glass records with Na > 14 to have Type 3 \n",
        "#\n",
        "%%sql\n",
        "UPDATE Glass\n",
        "SET Type = 3\n",
        "WHERE NA > 14;\n",
        "\n",
        "SELECT * FROM Glass;"
      ],
      "execution_count": null,
      "outputs": [
        {
          "output_type": "stream",
          "name": "stderr",
          "text": [
            "UsageError: Cell magic `%%sql` not found.\n"
          ]
        }
      ]
    },
    {
      "cell_type": "code",
      "source": [
        ""
      ],
      "metadata": {
        "id": "zkC67gC_MxlP"
      },
      "execution_count": null,
      "outputs": []
    },
    {
      "cell_type": "code",
      "metadata": {
        "id": "g_zWlJKTgpmV"
      },
      "source": [
        "# Challenge 3\n",
        "# Update Treatment records with id > 41 to have treatment = \"treated\"\n",
        "# \n",
        "OUR CODE GOES HERE"
      ],
      "execution_count": null,
      "outputs": []
    },
    {
      "cell_type": "markdown",
      "metadata": {
        "id": "A1SpsHzcgNSF"
      },
      "source": [
        "## 1.6 Updating using value from another column\n"
      ]
    },
    {
      "cell_type": "code",
      "metadata": {
        "id": "fj9PSDFThbCE"
      },
      "source": [
        "# Example \n",
        "# From our Interpol table, lets update National Fugitives = 0 to \n",
        "# have the values of its Wanted fugitives.\n",
        "#\n",
        "%%sql\n",
        "UPDATE Interpol\n",
        "set \"National Fugitives\" = Interpol.\"Wanted Fugitives\"\n",
        "where \"National Fugitives\" = 0;\n",
        "\n",
        "SELECT * FROM Interpol;"
      ],
      "execution_count": null,
      "outputs": []
    },
    {
      "cell_type": "markdown",
      "metadata": {
        "id": "PTw63d8chcB0"
      },
      "source": [
        "### <font color=\"green\">1.6 Challenges</font>"
      ]
    },
    {
      "cell_type": "code",
      "metadata": {
        "id": "VOUWbKc5hfMX"
      },
      "source": [
        "# Challenge \n",
        "# From our Interpol table, we will need to update National Fugitives = 0 with\n",
        "# National Fugitives the sum of Wanted Fugitives and Possible Hosted Fugitives / Captured Fugitives\n",
        "#\n",
        "%%sql\n",
        "UPDATE Interpol\n",
        "set \"National Fugitives\" = Interpol.\"Wanted Fugitives\" + Interpol.\"Possible Hosted Fugitives / Captured Fugitives\"\n",
        "where \"National Fugitives\" = 0;\n",
        "\n",
        "SELECT * FROM Interpol;"
      ],
      "execution_count": null,
      "outputs": []
    },
    {
      "cell_type": "code",
      "source": [
        ""
      ],
      "metadata": {
        "id": "JSU0MrnuOvIG"
      },
      "execution_count": null,
      "outputs": []
    }
  ]
}